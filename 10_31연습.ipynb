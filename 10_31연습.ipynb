{
  "nbformat": 4,
  "nbformat_minor": 0,
  "metadata": {
    "colab": {
      "provenance": [],
      "authorship_tag": "ABX9TyMJA8ao8nCaoM56hBkXLROW",
      "include_colab_link": true
    },
    "kernelspec": {
      "name": "python3",
      "display_name": "Python 3"
    },
    "language_info": {
      "name": "python"
    }
  },
  "cells": [
    {
      "cell_type": "markdown",
      "metadata": {
        "id": "view-in-github",
        "colab_type": "text"
      },
      "source": [
        "<a href=\"https://colab.research.google.com/github/gasujina-prog/Python25Study/blob/main/10_31%EC%97%B0%EC%8A%B5.ipynb\" target=\"_parent\"><img src=\"https://colab.research.google.com/assets/colab-badge.svg\" alt=\"Open In Colab\"/></a>"
      ]
    },
    {
      "cell_type": "code",
      "execution_count": 4,
      "metadata": {
        "colab": {
          "base_uri": "https://localhost:8080/"
        },
        "id": "BOoZ5hKPs85s",
        "outputId": "a5eff7ed-3dd6-4844-c1c6-934790856f68"
      },
      "outputs": [
        {
          "output_type": "stream",
          "name": "stdout",
          "text": [
            "Python is Fun!\n",
            "pythonpython\n"
          ]
        }
      ],
      "source": [
        "#문자열 연결\n",
        "head = \"Python\"\n",
        "body = \" is\"\n",
        "footer = \" Fun!\"\n",
        "\n",
        "print(head+body+footer)\n",
        "\n",
        "#문자열 곱\n",
        "a = \"python\"\n",
        "print(a * 2)\n",
        "\n"
      ]
    },
    {
      "cell_type": "code",
      "source": [],
      "metadata": {
        "id": "zkr7w1Jc7aDJ"
      },
      "execution_count": null,
      "outputs": []
    },
    {
      "cell_type": "code",
      "source": [],
      "metadata": {
        "id": "fBeuItsl7aLo"
      },
      "execution_count": null,
      "outputs": []
    },
    {
      "cell_type": "code",
      "source": [],
      "metadata": {
        "id": "pUllg6HV7aOo"
      },
      "execution_count": null,
      "outputs": []
    },
    {
      "cell_type": "code",
      "source": [
        "# 조건문 학습- IF문\n",
        "money = True\n",
        "notmoney = False\n",
        "if money:\n",
        "    print(\"택시를 타고 가라\")\n",
        "else:\n",
        "     print(\"걸어 가라\")\n",
        "# IF-else 조건문\n",
        "\n",
        "if money:\n",
        "    print(\"택시를\")\n",
        "    print(\"타고\")\n",
        "    print(\"가라\")\n",
        "else :\n",
        "    print(\"빨리\")\n",
        "    print(\"뛰어\")\n",
        "    print(\"가라\")"
      ],
      "metadata": {
        "colab": {
          "base_uri": "https://localhost:8080/"
        },
        "id": "pla1GyqL7abA",
        "outputId": "82c727ff-33ba-4448-f4b4-a8bb2d90c8af"
      },
      "execution_count": 15,
      "outputs": [
        {
          "output_type": "stream",
          "name": "stdout",
          "text": [
            "택시를 타고 가라\n",
            "택시를\n",
            "타고\n",
            "가라\n"
          ]
        }
      ]
    },
    {
      "cell_type": "code",
      "source": [
        "#비교연산자.\n",
        "x = 1\n",
        "y = 5\n",
        "\n",
        "print(x < y) # x 가 y보다 작은가?\n",
        "print(x > y) # x 가 y보다 큰가?가?\n",
        "print(x == y) # x y가 동일한가?\n",
        "print(x != y) # x y가 다른가?\n",
        "print(x >= y) # x가 y보다 크거나 같나?\n",
        "print(x <= y) # x가 y보다 작거나 같나?\n",
        "\n",
        "# 예제\n",
        "money = 2000\n",
        "if money >= 3000:\n",
        "    print(\"택시를 타고 가라\")\n",
        "else:\n",
        "    print(\"걸어가라\")\n",
        "\n",
        "# 그리고, 또는, 아닌(AND,OR,NOT)\n",
        "x or y # x y 둘중 하나 만 참이여도 참으로 판단\n",
        "x and y # 둘다 참이여만 참으로 판단\n",
        "not x # x가 거짓이면 참으로 판단\n",
        "\n",
        "# 예제\n",
        "money = 2000\n",
        "card = True\n",
        "if money >= 3000 or card:\n",
        "    print(\"택시를 타고 가라\")\n",
        "else:\n",
        "    print(\"걸어가라\")\n",
        ""
      ],
      "metadata": {
        "colab": {
          "base_uri": "https://localhost:8080/"
        },
        "id": "_fB_unRj7ado",
        "outputId": "5cd11e4f-f2bd-4313-b64e-c1894c830f45"
      },
      "execution_count": 17,
      "outputs": [
        {
          "output_type": "stream",
          "name": "stdout",
          "text": [
            "True\n",
            "False\n",
            "False\n",
            "True\n",
            "False\n",
            "True\n",
            "걸어가라\n",
            "택시를 타고 가라\n"
          ]
        }
      ]
    },
    {
      "cell_type": "code",
      "source": [
        "# in, not in 조건문. 얘는 배열 조건문인듯 하다. 쉽게 생각해 그 안에 있는지 없는지에 따라 True, False 반환하는듯.\n",
        "\n",
        "print(1 in [1, 2, 3])\n",
        "print (1 not in [1, 2, 3])\n",
        "\n",
        "# 예제\n",
        "pocket = ['paper', 'cellphone', 'money']\n",
        "if 'money' in pocket:\n",
        "    print(\"택시를 타고 가라\")\n",
        "else:\n",
        "    print(\"걸어가라\")\n",
        "\n",
        "# 예제-PASS 이용\n",
        "pocket = ['paper', 'cellphone', 'money']\n",
        "if 'money' in pocket:\n",
        "    pass #pass는 아무일도 안하게 정의가능. 이경우 결과값 출력x\n",
        "else:\n",
        "    print(\"카드를 꺼내라\")"
      ],
      "metadata": {
        "colab": {
          "base_uri": "https://localhost:8080/"
        },
        "id": "tjyG8cvG7afw",
        "outputId": "e0a4ca11-8c91-4283-9020-8cdee64a4697"
      },
      "execution_count": 21,
      "outputs": [
        {
          "output_type": "stream",
          "name": "stdout",
          "text": [
            "True\n",
            "False\n",
            "택시를 타고 가라\n"
          ]
        }
      ]
    },
    {
      "cell_type": "code",
      "source": [
        "#elif-다양한 조건 판단\n",
        "#돈 있으면 택시, 돈 부족에 카드가 있어도 택시, 둘다 없을때만 도보  를 표현\n",
        "\n",
        "pocket = ['paper', 'cellphone']\n",
        "card = True\n",
        "if 'money' in pocket:\n",
        "  print(\"택시타고 가라.\")\n",
        "else:\n",
        "  if card:\n",
        "    print(\"택시를 타고가라.\")\n",
        "  else:\n",
        "    print(\"걸어가라.\")\n",
        "# 기존엔 이렇게 썼겠지만 elif가 들어가면ㆍㆍㆍ\n",
        "\n",
        "pocket = ['paper', 'cellphone']\n",
        "card = True\n",
        "if 'money' in pocket:\n",
        "  print(\"택시타고 가라.\")\n",
        "elif card:\n",
        "    print(\"택시를 타고가라.\") # else 안에 있던 if를 생략할 수 있다!\n",
        "else:\n",
        "    print(\"걸어가라.\")\n",
        "#elif는 이전 조건문이 거짓일때 실행되며 횟수의 제한이 없으며, elif까지 들어올시 기본 구조는 다음과 같다.\n",
        "#if(최초 조건문)-elif(이후 수행될 조건문)-elif*n(elif에서 참 나올때까지.. 참이 나오면 해당 줄에서 완료)-\n",
        "# else(if~elif 까지 거짓일때 마지막으로 나옴)\n",
        "\n",
        "\n",
        "#if문 한줄로 작성.그리 길지않을때 간결한 작성법.\n",
        "if 'money' in pocket: pass\n",
        "else:print(\"카드를 꺼내라\")\n",
        "\n",
        "#비교 연산자 연쇄 사용\n",
        "x = 5\n",
        "print(1 < x < 10)    # x가 1보다 크고 10보다 작은가?\n",
        "print(10 <= x <= 20)  # x가 10 이상 20 이하인가?\n",
        "#를 간략화 하면....\n",
        "print((1 < x) and (x < 10))\n",
        "print((10 <= x) and (x <= 20))\n",
        "\n",
        "# 조건부 표현식-변수에 서로 다른값 대입\n",
        "score = 85\n",
        "if score >= 60:\n",
        "    result = \"합격\"\n",
        "else:\n",
        "    result = \"불합격\"\n",
        "print(f\"일반 if문: {result}\")\n",
        "\n",
        "#간략화\n",
        "score = 85\n",
        "result = \"합격\" if score >= 60 else \"불합격\"\n",
        "print(f\"조건부 표현식: {result}\")\n",
        "\n",
        "# 예제\n",
        "age = 19\n",
        "status = \"성인\" if age >= 18 else \"미성년\"\n",
        "print(f\"나이: {age}, 구분: {status}\")\n",
        "\n",
        "temperature = 25\n",
        "weather = \"따뜻함\" if temperature > 20 else \"추움\"\n",
        "print(f\"온도: {temperature}, 날씨: {weather}\")\n",
        "\n",
        "money = 1500\n",
        "transportation = \"버스\" if money >= 1000 else \"도보\"\n",
        "print(f\"가진 돈: {money}, 교통수단: {transportation}\")"
      ],
      "metadata": {
        "colab": {
          "base_uri": "https://localhost:8080/"
        },
        "id": "9yMjvjBDIWeo",
        "outputId": "1eea2daa-8f41-49fe-8227-ed2570ee9fed"
      },
      "execution_count": 24,
      "outputs": [
        {
          "output_type": "stream",
          "name": "stdout",
          "text": [
            "택시를 타고가라.\n",
            "택시를 타고가라.\n",
            "카드를 꺼내라\n",
            "True\n",
            "False\n",
            "True\n",
            "False\n"
          ]
        }
      ]
    },
    {
      "cell_type": "code",
      "source": [
        "#문장을 반복시키는 While 문\n",
        "\n",
        "treeHit = 0\n",
        "while treeHit < 10:\n",
        "  treeHit = treeHit +1\n",
        "  print(\"나무를 %d번 찍었습니다.\" % treeHit)\n",
        "  if treeHit == 10:\n",
        "        print(\"나무 넘어갑니다.\")"
      ],
      "metadata": {
        "colab": {
          "base_uri": "https://localhost:8080/"
        },
        "id": "rKP4jn5w7aRA",
        "outputId": "a2531df1-df78-4bd1-e650-967d8917dc6c"
      },
      "execution_count": 3,
      "outputs": [
        {
          "output_type": "stream",
          "name": "stdout",
          "text": [
            "나무를 1번 찍었습니다.\n",
            "나무를 2번 찍었습니다.\n",
            "나무를 3번 찍었습니다.\n",
            "나무를 4번 찍었습니다.\n",
            "나무를 5번 찍었습니다.\n",
            "나무를 6번 찍었습니다.\n",
            "나무를 7번 찍었습니다.\n",
            "나무를 8번 찍었습니다.\n",
            "나무를 9번 찍었습니다.\n",
            "나무를 10번 찍었습니다.\n",
            "나무 넘어갑니다.\n"
          ]
        }
      ]
    },
    {
      "cell_type": "code",
      "source": [],
      "metadata": {
        "id": "KMmchVON7aUI"
      },
      "execution_count": null,
      "outputs": []
    }
  ]
}