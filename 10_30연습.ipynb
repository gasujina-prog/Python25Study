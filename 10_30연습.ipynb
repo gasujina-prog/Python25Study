{
  "nbformat": 4,
  "nbformat_minor": 0,
  "metadata": {
    "colab": {
      "provenance": [],
      "authorship_tag": "ABX9TyMMXWcT8b/T9NF5hZxmTqR8",
      "include_colab_link": true
    },
    "kernelspec": {
      "name": "python3",
      "display_name": "Python 3"
    },
    "language_info": {
      "name": "python"
    }
  },
  "cells": [
    {
      "cell_type": "markdown",
      "metadata": {
        "id": "view-in-github",
        "colab_type": "text"
      },
      "source": [
        "<a href=\"https://colab.research.google.com/github/gasujina-prog/Python25Study/blob/main/10_30%EC%97%B0%EC%8A%B5.ipynb\" target=\"_parent\"><img src=\"https://colab.research.google.com/assets/colab-badge.svg\" alt=\"Open In Colab\"/></a>"
      ]
    },
    {
      "cell_type": "code",
      "execution_count": null,
      "metadata": {
        "id": "Sb2g1CVsy4gZ"
      },
      "outputs": [],
      "source": [
        "#숫자형\n",
        "#Number타입 : 정수 실수 2ㆍ8ㆍ16 진수 등을 표현\n",
        "\n",
        "#정수형\n",
        "a = 123\n",
        "b = 277\n",
        "\n",
        "print(a)\n",
        "print(a+b)"
      ]
    },
    {
      "cell_type": "code",
      "source": [
        "#실수형\n",
        "a = 1.7\n",
        "b = 2.3\n",
        "c = -6.8\n",
        "\n",
        "d = 5.26e8\n",
        "f = -4.29e8\n",
        "\n",
        "print(a+b+c)\n",
        "print(a-c)\n",
        "print(b*c+a)\n",
        "print(d+f)"
      ],
      "metadata": {
        "colab": {
          "base_uri": "https://localhost:8080/"
        },
        "id": "p4O-4Y6A1B_M",
        "outputId": "e89dbb18-ce75-4ebd-adc6-27de4f2fb878"
      },
      "execution_count": null,
      "outputs": [
        {
          "output_type": "stream",
          "name": "stdout",
          "text": [
            "123\n",
            "400\n",
            "-2.8\n",
            "8.5\n",
            "-13.94\n",
            "97000000.0\n",
            "449\n",
            "5314\n"
          ]
        },
        {
          "output_type": "execute_result",
          "data": {
            "text/plain": [
              "12"
            ]
          },
          "metadata": {},
          "execution_count": 11
        }
      ]
    },
    {
      "cell_type": "code",
      "source": [
        "#진수\n",
        "a = 0o167\n",
        "b = 0o512\n",
        "#↑ 8진수 ↓16진수\n",
        "c = 0x8cc\n",
        "d = 0xAAC\n",
        "\n",
        "print(a+b)\n",
        "print(b+c+d)"
      ],
      "metadata": {
        "id": "-lIhoWQUBMC9"
      },
      "execution_count": null,
      "outputs": []
    },
    {
      "cell_type": "code",
      "source": [
        "# 4칙 연산\n",
        "a = 5\n",
        "b = 7\n",
        "print(a+b)\n",
        "print(a-b)\n",
        "print(a*b)\n",
        "print(a/b)"
      ],
      "metadata": {
        "colab": {
          "base_uri": "https://localhost:8080/"
        },
        "id": "Hu6bQub0BMNs",
        "outputId": "c01370f0-ba75-4b15-8255-2e7cfeef1167"
      },
      "execution_count": 13,
      "outputs": [
        {
          "output_type": "stream",
          "name": "stdout",
          "text": [
            "12\n",
            "-2\n",
            "35\n",
            "0.7142857142857143\n"
          ]
        }
      ]
    },
    {
      "cell_type": "code",
      "source": [
        "#특수연산-제곱, 나눗셈 후 몫 또는 나머지 반환 연산\n",
        "\n",
        "a = 4\n",
        "b = 4\n",
        "\n",
        "print(a ** b)\n",
        "\n",
        "#나눗셈-나머지 반환\n",
        "\n",
        "print(8 % 5)\n",
        "\n",
        "print(5 % 8)\n",
        "\n",
        "#나눗셈-몫 반환\n",
        "\n",
        "print(12 / 9)\n",
        "print(12 // 9)"
      ],
      "metadata": {
        "colab": {
          "base_uri": "https://localhost:8080/"
        },
        "id": "7MCwdi3aBgq1",
        "outputId": "7e6314c6-0ecc-4254-d9fa-418ac038fd3e"
      },
      "execution_count": 22,
      "outputs": [
        {
          "output_type": "stream",
          "name": "stdout",
          "text": [
            "256\n",
            "3\n",
            "5\n",
            "1.3333333333333333\n",
            "1\n"
          ]
        }
      ]
    },
    {
      "cell_type": "code",
      "source": [
        "#복합연산자\n",
        "\n",
        "a = 2 #최초 대입\n",
        "a += 1 # a+1로 계산된 값을 다시 위 a에 대입\n",
        "print (a) #결과로 3 도출\n",
        "\n",
        "a = 6\n",
        "b = 14\n",
        "\n",
        "a -= 5 # 기존 a에 -5 대입 → 출력시 1\n",
        "b += 4 # b에 +4 대입 → 출력시 18\n",
        "\n",
        "print(a+b) #최종 대입된 값을 정해진 연산자에 따라 출력\n",
        "\n",
        "#복합 연산자의 종류\n",
        "#+=, -=, *=, /=, //=, %=, **= →위 연산자들뒤에 = 만 붙이면 끝"
      ],
      "metadata": {
        "colab": {
          "base_uri": "https://localhost:8080/"
        },
        "id": "xsjN1DcWCral",
        "outputId": "2e69aeb5-6c99-4f26-aa81-d9ea589c31ec"
      },
      "execution_count": 24,
      "outputs": [
        {
          "output_type": "stream",
          "name": "stdout",
          "text": [
            "3\n",
            "19\n"
          ]
        }
      ]
    },
    {
      "cell_type": "code",
      "source": [
        "#문자열 사용법\n",
        "\"작성할 문자\" , '작은 따옴표 가능', \"\"\"큰 따옴표 3개버전\"\"\", '''뭐야 어디까지 늘어나요'''"
      ],
      "metadata": {
        "colab": {
          "base_uri": "https://localhost:8080/"
        },
        "id": "g_j6IaFPEazM",
        "outputId": "43bdcfe4-173c-47e4-8dbb-6928c2bcf7ed"
      },
      "execution_count": 27,
      "outputs": [
        {
          "output_type": "execute_result",
          "data": {
            "text/plain": [
              "('작성할 문자', '작은 따옴표 가능', '큰 따옴표 3개버전', '뭐야 어디까지 늘어나요')"
            ]
          },
          "metadata": {},
          "execution_count": 27
        }
      ]
    },
    {
      "cell_type": "code",
      "source": [
        "#문자열에 따옴표 추가\n",
        "\n",
        "# 문자열에 작은 따옴표 사용시 문자열 부분을 큰 따옴표로 둘러싸야함.\n",
        "food = \"Python's favorite food is perl\"\n",
        "\n",
        "print(food)\n",
        "\n",
        "#위와 쓰는게 반대면 따옴표도 반대로\n",
        "\n",
        "say = '\"python is very EZ.\" I said. '\n",
        "\n",
        "print(say)\n",
        "\n",
        "#역슬래시로도 대체 가능.\n",
        "\n",
        "food = 'Python\\'s favorite food is perl'\n",
        "say = \"\\\"Python is very easy.\\\" he says.\"\n",
        "\n",
        "print(food, say)"
      ],
      "metadata": {
        "colab": {
          "base_uri": "https://localhost:8080/"
        },
        "id": "nHK-zme5FQVl",
        "outputId": "3987f0a8-2d6c-4364-e17b-ef920d13428c"
      },
      "execution_count": 32,
      "outputs": [
        {
          "output_type": "stream",
          "name": "stdout",
          "text": [
            "Python's favorite food is perl\n",
            "\"python is very EZ.\" I said. \n",
            "Python's favorite food is perl \"Python is very easy.\" he says.\n"
          ]
        }
      ]
    },
    {
      "cell_type": "code",
      "source": [
        "#여러줄의 문자열을 변수 대입 하고싶을때\n",
        "\n",
        "multiline = \"삶은 짧기에\\n너는 파이썬이 필요하다.\"#탈출 코드인 \\n으로 줄바꿈. 근데 보기 거창하니...\n",
        "print(multiline)\n",
        "\n",
        "#여기서 크고작은 따옴표 3개 활용이 나타남.\n",
        "multiline = \"\"\"\n",
        "Life is too shot,\n",
        "I need Python.\n",
        "\"\"\"\n",
        "\n",
        "print(multiline)"
      ],
      "metadata": {
        "colab": {
          "base_uri": "https://localhost:8080/"
        },
        "id": "f2hBh5jKQA5e",
        "outputId": "7215d6ea-1661-4f91-a287-6199e113923e"
      },
      "execution_count": 44,
      "outputs": [
        {
          "output_type": "stream",
          "name": "stdout",
          "text": [
            "삶은 짧기에\n",
            "너는 파이썬이 필요하다.\n",
            "\n",
            "Life is too shot,\n",
            "I need Python.\n",
            "\n"
          ]
        }
      ]
    }
  ]
}